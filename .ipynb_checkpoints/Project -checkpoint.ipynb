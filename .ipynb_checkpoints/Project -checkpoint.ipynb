{
 "cells": [
  {
   "cell_type": "code",
   "execution_count": 5,
   "metadata": {},
   "outputs": [],
   "source": [
    "import pandas as pd"
   ]
  },
  {
   "cell_type": "code",
   "execution_count": 2,
   "metadata": {},
   "outputs": [
    {
     "name": "stdout",
     "output_type": "stream",
     "text": [
      "handle,name,sex,born,announcement,party,city of residence,state of residence,children\n",
      "@sethmoulton,Seth Moulton,m,\"October 24, 1978\",\"April 22, 2019\",D,Salem,MA,1\n",
      "@SenGillibrand,Kirsten Gillibrand,f,\"December 9, 1966\",\"January 15, 2019\",D,New York,NY,2\n",
      "@Hickenlooper,John Hickenlooper,m,\"February 7, 1952\",\"March 4, 2019\",D,Denver,CO,1\n",
      "@JohnDelaney,John Delaney,m,\"April 16, 1963\",\"August 10, 2017\",D,Chevy Chase,MD,4\n",
      "@KamalaHarris,Kamala Harris,f,\"October 20, 1964\",\"January 21, 2019\",D,San Francisco,CA,0\n",
      "@JoeBiden,Joe Biden,m,\"November 20, 1942\",\"April 25, 2019\",D,Wilmington,DE,4\n",
      "@TimRyan,Tim Ryan,m,\"July 16, 1973\",\"April 4, 2019\",D,Howland,OH,1\n",
      "@ewarren,Elizabeth Warren,f,\"June 22, 1949\",\"February 9, 2019\",D,Cambridge,MA,2\n",
      "@realDonaldTrump,Donald Trump,m,\"June 14, 1946\",,R,New York,NY,5\n",
      "@JulianCastro,Julian Castro,m,\"September 16, 1974\",\"January 12, 2019\",D,San Antonio,TX,2\n",
      "@BilldeBlasio,Bill de Blasio,m,\"May 8, 1961\",\"May 16, 2019\",D,New York,NY,2\n",
      "@marwilliamson,Marianne Williamson,f,\"July 8, 1952\",\"January 28, 2019\",D,Houston ,TX,1\n",
      "@BernieSanders,Bernie Sanders,m,\"September 8, 1941\",\"February 19, 2019\",D,Vermont,VT,4\n",
      "@CoryBooker,Cory Booker,m,\"April 27, 1969\",\"February 1, 2019\",D,Newark,NJ,0\n",
      "@mike_pence,Mike Pence,m,\"June 7, 1959\",,R,Columbus,IN,3\n",
      "@AndrewYang,Andrew Yang,m,\"January 13, 1975\",\"November 6, 2017\",D,New York,NY,2\n",
      "@ericswalwell,Eric Swalwell,m,\"November 16, 1980\",\"April 8, 2019\",D,Pleasanton,CA,2\n",
      "@MikeGravel,Mike Gravel,m,\"May 13, 1930\",\"April 2, 2019\",D,Burlingame,CA,2\n",
      "@JayInslee,Jay Inslee,m,\"February 9, 1951\",\"March 1, 2019\",D,Olympia,WA,3\n",
      "@GovernorBullock,Steve Bullock,m,\"April 11, 1966\",\"May 14, 2019\",D,Helena,MT,3\n",
      "@MichaelBennet,Michael Bennet,m,\"November 28, 1964\",\"May 2, 2019\",D,Denver ,CO,3\n",
      "@BetoORourke,Beto O'Rourke,m,\"September 26, 1972\",\"March 14, 2019\",D,El Paso,TX,3\n",
      "@PeteButtigieg,Pete Buttigieg,m,\"January 19, 1982\",\"January 23, 2019\",D,South Bend,IN,0\n",
      "@TulsiGabbard,Tulsi Gabbard,f,\"April 12, 1981\",\"January 11, 2019\",D,Honoluly,HI,0\n",
      "@amyklobuchar,Amy Klobuchar,f,\"May 25, 1960\",\"February 10, 2019\",D,Minneapolis,MN,1\n",
      "@WayneMessam,Wayne Messam,m,\"June 7, 1974\",\"March 13, 2019\",D,Miramar,FL,3\n",
      "@GovBillWeld,Bill Weld,m,\"July 31, 1945\",\"April 15, 2019\",R,New York,NY,5\n",
      "candidates_info.csv\n"
     ]
    }
   ],
   "source": [
    "filename = \"candidates_info.csv\"\n",
    "with open(filename, 'r') as f:\n",
    "    for line in f.readlines():\n",
    "        print(line.strip())        \n",
    "print(filename)"
   ]
  },
  {
   "cell_type": "code",
   "execution_count": null,
   "metadata": {},
   "outputs": [],
   "source": []
  }
 ],
 "metadata": {
  "kernelspec": {
   "display_name": "Python 3",
   "language": "python",
   "name": "python3"
  },
  "language_info": {
   "codemirror_mode": {
    "name": "ipython",
    "version": 3
   },
   "file_extension": ".py",
   "mimetype": "text/x-python",
   "name": "python",
   "nbconvert_exporter": "python",
   "pygments_lexer": "ipython3",
   "version": "3.7.3"
  }
 },
 "nbformat": 4,
 "nbformat_minor": 2
}
