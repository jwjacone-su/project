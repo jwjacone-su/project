{
 "cells": [
  {
   "cell_type": "markdown",
   "metadata": {},
   "source": [
    "# The Candid Vote Program"
   ]
  },
  {
   "cell_type": "markdown",
   "metadata": {},
   "source": [
    "Program written by Joseph Jaconetta and Nobi Nyabonda for Professor Fudge's IST256 Program"
   ]
  },
  {
   "cell_type": "code",
   "execution_count": 1,
   "metadata": {},
   "outputs": [
    {
     "name": "stdout",
     "output_type": "stream",
     "text": [
      "Requirement already satisfied: chart-studio in /opt/conda/lib/python3.7/site-packages (1.0.0)\n",
      "Requirement already satisfied: requests in /opt/conda/lib/python3.7/site-packages (from chart-studio) (2.22.0)\n",
      "Requirement already satisfied: plotly in /opt/conda/lib/python3.7/site-packages (from chart-studio) (4.1.1)\n",
      "Requirement already satisfied: six in /opt/conda/lib/python3.7/site-packages (from chart-studio) (1.12.0)\n",
      "Requirement already satisfied: retrying>=1.3.3 in /opt/conda/lib/python3.7/site-packages (from chart-studio) (1.3.3)\n",
      "Requirement already satisfied: urllib3!=1.25.0,!=1.25.1,<1.26,>=1.21.1 in /opt/conda/lib/python3.7/site-packages (from requests->chart-studio) (1.24.2)\n",
      "Requirement already satisfied: certifi>=2017.4.17 in /opt/conda/lib/python3.7/site-packages (from requests->chart-studio) (2019.6.16)\n",
      "Requirement already satisfied: chardet<3.1.0,>=3.0.2 in /opt/conda/lib/python3.7/site-packages (from requests->chart-studio) (3.0.4)\n",
      "Requirement already satisfied: idna<2.9,>=2.5 in /opt/conda/lib/python3.7/site-packages (from requests->chart-studio) (2.8)\n"
     ]
    }
   ],
   "source": [
    "!pip install chart-studio\n",
    "import pandas as pd\n",
    "import folium\n",
    "import random\n",
    "\n",
    "import chart_studio as plotly\n",
    "import chart_studio.plotly as py\n",
    "import plotly.express as px\n",
    "import plotly.graph_objects as go"
   ]
  },
  {
   "cell_type": "markdown",
   "metadata": {},
   "source": [
    "# Part 1: Candidate Birthplace Map"
   ]
  },
  {
   "cell_type": "code",
   "execution_count": 6,
   "metadata": {},
   "outputs": [
    {
     "name": "stdout",
     "output_type": "stream",
     "text": [
      "Hello! Would you like to start the program? Type \"Yes\" or \"No\": no\n",
      "Ok! Go on to Part 2 or exit the program.\n"
     ]
    }
   ],
   "source": [
    "#Code for displaying birthplace map (Part 1)\n",
    "from IPython.display import display\n",
    "candidates= pd.read_csv('Map_candidates_info.csv')\n",
    "CENTER_US = (39.8333333,-98.585522)\n",
    "map = folium.Map(location=CENTER_US, zoom_start=4\n",
    "                )\n",
    "\n",
    "colors = ['red', 'blue', 'green', 'purple', 'orange', 'darkred',\n",
    "            'lightred', 'beige', 'darkblue', 'darkgreen', 'cadetblue',\n",
    "            'darkpurple', 'pink', 'lightblue', 'lightgreen',\n",
    "            'gray', 'black', 'lightgray']\n",
    "prompt = input('Hello! Would you like to start the program? Type \"Yes\" or \"No\": ').lower() #asks user to display map\n",
    "if prompt == 'yes':\n",
    "    for row in candidates.to_records():\n",
    "        pos = (row['Latitude'],row['Longitude'])\n",
    "        marker = folium.Marker(location=pos, \n",
    "                        popup=\"%s, %s, %s\" % (row['Name'],row['City of Residence'], row['State of Residence']),\n",
    "                        icon = folium.Icon(color = random.choice(colors), icon='user')\n",
    "                              )\n",
    "        map.add_child(marker)\n",
    "    display(map) \n",
    "    print('Here is a map displaying where each presidential candidate was born.')\n",
    "    \n",
    "elif prompt == 'no':\n",
    "    print('Ok! Go on to Part 2 or exit the program.')\n",
    "else:\n",
    "    print('Please enter \"Yes\" or \"No\"') #handles errors\n"
   ]
  },
  {
   "cell_type": "markdown",
   "metadata": {},
   "source": [
    "# Part 2: Voter Registration Graph (East Coast)"
   ]
  },
  {
   "cell_type": "code",
   "execution_count": 3,
   "metadata": {},
   "outputs": [
    {
     "name": "stdout",
     "output_type": "stream",
     "text": [
      "Would you like to view the data for Part 2? Type \"Yes\" or \"No\": no\n",
      "Ok! Move on to part 3 or exit the program.\n"
     ]
    }
   ],
   "source": [
    "#Code for displaying registration graph (Part 2)\n",
    "plotly.tools.set_credentials_file(username='nmnyabon', api_key='JTQV3FxmizMv7eQdJn2C')\n",
    "\n",
    "registration = {'East Coast States': ['Connecticut','Delaware','Florida','Georgia','Maine','Maryland','Massachusets','New Hampshire','New Jersey','New York','North Carolina','Rhode Island','Virginia'],\n",
    "                'Total Registered Voters': [1726,472,9435,4840,828,3095,3345,726,4297,8553,5160,532,4159]\n",
    "               }\n",
    "registration_df = pd.DataFrame(registration)\n",
    "\n",
    "registration_data = [ go.Bar(x=registration_df['East Coast States'], y=registration_df['Total Registered Voters']) ] # Bar Plot, note this is a list\n",
    "\n",
    "prompt_two = input('Would you like to view the data for Part 2? Type \"Yes\" or \"No\": ').lower() #asks user to display graph\n",
    "if prompt_two == \"yes\":\n",
    "    display(py.iplot({ 'data': registration_data,\n",
    "            'layout': {\n",
    "               'title': 'Total Registered Voters in East Coast States',\n",
    "               'xaxis': {\n",
    "                 'title': 'State'},\n",
    "               'yaxis': {\n",
    "                'title': 'Number of Voters (in thousands)'}\n",
    "        }}))\n",
    "    print('Here is a graph displaying the number of registered voters in each of the east coast states (2018).')\n",
    "elif prompt_two == \"no\":\n",
    "    print('Ok! Move on to part 3 or exit the program.')\n",
    "else:\n",
    "    print('Please enter \"Yes\" or \"No\"') #handles errors"
   ]
  },
  {
   "cell_type": "markdown",
   "metadata": {},
   "source": [
    "# Part 3: Candidate Info Lookup"
   ]
  },
  {
   "cell_type": "code",
   "execution_count": 4,
   "metadata": {},
   "outputs": [],
   "source": [
    "#Function that allows candidates to be searched for in part 3\n",
    "def CandidateLookup(candidate):\n",
    "    if candidate == 'joe biden':\n",
    "        display(Image(\"pics/JoeBiden.jpg\"))\n",
    "        print(candidates.loc[5,:])\n",
    "    elif candidate == 'seth moulton':\n",
    "        display(Image(\"pics/sethmoulton.jpg\"))\n",
    "        print(candidates.loc[0,:])\n",
    "    elif candidate == 'kirsten gillibrand':\n",
    "        display(Image(\"pics/SenGillibrand.jpg\"))\n",
    "        print(candidates.loc[1,:])\n",
    "    elif candidate == 'john hickenlooper':\n",
    "        print(candidates.loc[2,:])\n",
    "    elif candidate == 'john delaney':\n",
    "        display(Image(\"pics/JohnDelaney.jpg\"))\n",
    "        print(candidates.loc[3,:])\n",
    "    elif candidate == 'kamala harris':\n",
    "        display(Image(\"pics/KamalaHarris.jpg\"))\n",
    "        print(candidates.loc[4,:])\n",
    "    elif candidate == 'tim ryan':\n",
    "        display(Image(\"pics/TimRyan.png\"))\n",
    "        print(candidates.loc[6,:])\n",
    "    elif candidate == 'elizabeth warren':\n",
    "        display(Image(\"pics/ewarren.png\"))\n",
    "        print(candidates.loc[7,:])\n",
    "    elif candidate == 'donald trump':\n",
    "        display(Image(\"pics/realDonaldTrump.jpg\"))\n",
    "        print(candidates.loc[8,:])\n",
    "    elif candidate == 'julian castro':\n",
    "        display(Image(\"pics/JulianCastro.jpg\"))\n",
    "        print(candidates.loc[9,:])\n",
    "    elif candidate == 'bill de blasio':\n",
    "        display(Image(\"pics/BilldeBlasio.png\"))\n",
    "        print(candidates.loc[10,:])\n",
    "    elif candidate == 'marianne williamson':\n",
    "        display(Image(\"pics/marwilliamson.jpg\"))\n",
    "        print(candidates.loc[11,:])\n",
    "    elif candidate == 'bernie sanders':\n",
    "        display(Image(\"pics/BernieSanders.jpg\"))\n",
    "        print(candidates.loc[12,:])\n",
    "    elif candidate == 'cory booker':\n",
    "        display(Image(\"pics/CoryBooker.jpg\"))\n",
    "        print(candidates.loc[13,:])\n",
    "    elif candidate == 'mike pence':\n",
    "        display(Image(\"pics/mike_pence.jpg\"))\n",
    "        print(candidates.loc[14,:])\n",
    "    elif candidate == 'andrew yang':\n",
    "        display(Image(\"pics/AndrewYang.jpg\"))\n",
    "        print(candidates.loc[15,:])\n",
    "    elif candidate == 'eric swalwell':\n",
    "        display(Image(\"pics/ericswalwell.jpg\"))\n",
    "        print(candidates.loc[16,:])\n",
    "    elif candidate == 'mike gravel':\n",
    "        display(Image(\"pics/MikeGravel.png\"))\n",
    "        print(candidates.loc[17,:])\n",
    "    elif candidate == 'jay inslee':\n",
    "        display(Image(\"pics/JayInslee.jpg\"))\n",
    "        print(candidates.loc[18,:])\n",
    "    elif candidate == 'steve bullock':\n",
    "        display(Image(\"pics/GovernorBullock.jpg\"))\n",
    "        print(candidates.loc[19,:])\n",
    "    elif candidate == 'michael bennet':\n",
    "        display(Image(\"pics/MichaelBennet.jpg\"))\n",
    "        print(candidates.loc[20,:])\n",
    "    elif candidate == \"beto o'rourke\":\n",
    "        display(Image(\"pics/BetoORourke.jpg\"))\n",
    "        print(candidates.loc[21,:])\n",
    "    elif candidate == 'pete buttigieg':\n",
    "        display(Image(\"pics/PeteButtigieg.png\"))\n",
    "        print(candidates.loc[22,:])\n",
    "    elif candidate == 'tulsi gabbard':\n",
    "        display(Image(\"pics/TulsiGabbard.jpg\"))\n",
    "        print(candidates.loc[23,:])\n",
    "    elif candidate == 'amy klobuchar':\n",
    "        display(Image(\"pics/amyklobuchar.jpg\"))\n",
    "        print(candidates.loc[24,:])\n",
    "    elif candidate == 'wayne messam':\n",
    "        display(Image(\"pics/WayneMessam.jpg\"))\n",
    "        print(candidates.loc[25,:])\n",
    "    elif candidate == 'bill weld':\n",
    "        display(Image(\"pics/GovBillWeld.png\"))\n",
    "        print(candidates.loc[26,:])\n",
    "    else:\n",
    "        print(\"That is not a candidate!\")\n",
    "    whitespace = ' '\n",
    "    return whitespace  #adds a space between candidate info and next prompt\n"
   ]
  },
  {
   "cell_type": "code",
   "execution_count": 5,
   "metadata": {},
   "outputs": [
    {
     "name": "stdout",
     "output_type": "stream",
     "text": [
      "Enter name of Presidential Candidate or type \"quit\" to stop: quit\n",
      "Program Ending, Thank You!\n"
     ]
    }
   ],
   "source": [
    "#Code for candidate lookup program (Part 3)\n",
    "candidates= pd.read_csv('Pres_candidates_info.csv')\n",
    "from IPython.display import Image\n",
    "while True:\n",
    "    candidate= input('Enter name of Presidential Candidate or type \"quit\" to stop: ').lower()\n",
    "    if candidate == 'quit':\n",
    "        print('Program Ending, Thank You!')\n",
    "        break\n",
    "    else:\n",
    "        CandInfo = CandidateLookup(candidate)\n",
    "        print(CandInfo)"
   ]
  },
  {
   "cell_type": "markdown",
   "metadata": {},
   "source": [
    "Databases Accessed On:\n",
    "https://www.kaggle.com/radustoicescu/2020-united-states-presidential-election\n",
    "https://www.census.gov/data/tables/time-series/demo/voting-and-registration/p20-583.html"
   ]
  },
  {
   "cell_type": "code",
   "execution_count": null,
   "metadata": {},
   "outputs": [],
   "source": []
  }
 ],
 "metadata": {
  "kernelspec": {
   "display_name": "Python 3",
   "language": "python",
   "name": "python3"
  },
  "language_info": {
   "codemirror_mode": {
    "name": "ipython",
    "version": 3
   },
   "file_extension": ".py",
   "mimetype": "text/x-python",
   "name": "python",
   "nbconvert_exporter": "python",
   "pygments_lexer": "ipython3",
   "version": "3.7.3"
  }
 },
 "nbformat": 4,
 "nbformat_minor": 2
}
